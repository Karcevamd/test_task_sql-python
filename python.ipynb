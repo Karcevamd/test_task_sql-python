{
 "cells": [
  {
   "cell_type": "markdown",
   "id": "5d7c53b1-7d11-42e0-bac1-9490d61a8c8b",
   "metadata": {},
   "source": [
    "# Задача №1\r\n",
    "Необходимо реализовать метод сортировки списка целых (int) элементов. Метод должен быть реализован без использования \"готовых\" методов (sorted, numpy.sort и т.д.)\r\n"
   ]
  },
  {
   "cell_type": "code",
   "execution_count": 1,
   "id": "7bba6419-5376-46cf-901b-0f239777acff",
   "metadata": {},
   "outputs": [
    {
     "name": "stdin",
     "output_type": "stream",
     "text": [
      " 7 8 9 1 2 3 5 2 6 7 \n"
     ]
    },
    {
     "name": "stdout",
     "output_type": "stream",
     "text": [
      "9 8 7 7 6 5 3 2 2 1\n"
     ]
    }
   ],
   "source": [
    "nums = list(map(int,input().split()))\n",
    "n = 1\n",
    "while n < len(nums):\n",
    "    for i in range(len(nums) - n):\n",
    "        if nums[i] < nums[i + 1]: \n",
    "            nums[i], nums[i + 1] = nums[i + 1], nums[i]\n",
    "    n += 1\n",
    "print(*nums)"
   ]
  },
  {
   "cell_type": "markdown",
   "id": "0755add7-949b-4636-8ccd-9797d333140c",
   "metadata": {},
   "source": [
    "# Задача №2\n",
    "Даны координаты 4-х точек на плоскости: (x1, y1), (x2, y2), (x3, y3), (x4, y4). Определить, можно ли по данным точкам достроить квадрат."
   ]
  },
  {
   "cell_type": "code",
   "execution_count": 2,
   "id": "7b730ee1-2915-493e-b61e-f9986e5decbf",
   "metadata": {},
   "outputs": [
    {
     "name": "stdin",
     "output_type": "stream",
     "text": [
      " 1 2 2 1 4 1 1 4\n"
     ]
    },
    {
     "name": "stdout",
     "output_type": "stream",
     "text": [
      "NO\n"
     ]
    }
   ],
   "source": [
    "def is_square(point1, point2, point3, point4):\n",
    "    def distance(p1, p2):\n",
    "        return (p1[0] - p2[0])**2 + (p1[1] - p2[1])**2\n",
    "    distances = set()\n",
    "    for p1, p2 in [(point1, point2), (point1, point3), (point1, point4),\n",
    "                   (point2, point3), (point2, point4), (point3, point4)]:\n",
    "        distances.add(distance(p1, p2))\n",
    "        \n",
    "    return len(distances) == 2 and max(distances) == 2 * min(distances)\n",
    "    \n",
    "x1, y1, x2, y2, x3, y3, x4, y4 = map(int, input().split())\n",
    "point1 = (x1, y1)\n",
    "point2 = (x2, y2)\n",
    "point3 = (x3, y3)\n",
    "point4 = (x4, y4)\n",
    "\n",
    "if is_square(point1, point2, point3, point4):\n",
    "    print(\"YES\")\n",
    "else:\n",
    "    print(\"NO\")"
   ]
  }
 ],
 "metadata": {
  "kernelspec": {
   "display_name": "Python 3 (ipykernel)",
   "language": "python",
   "name": "python3"
  },
  "language_info": {
   "codemirror_mode": {
    "name": "ipython",
    "version": 3
   },
   "file_extension": ".py",
   "mimetype": "text/x-python",
   "name": "python",
   "nbconvert_exporter": "python",
   "pygments_lexer": "ipython3",
   "version": "3.10.9"
  }
 },
 "nbformat": 4,
 "nbformat_minor": 5
}
